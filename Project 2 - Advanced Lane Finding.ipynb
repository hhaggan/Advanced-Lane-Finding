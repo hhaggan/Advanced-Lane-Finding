{
 "cells": [
  {
   "cell_type": "code",
   "execution_count": 1,
   "metadata": {},
   "outputs": [],
   "source": [
    "import numpy as np\n",
    "import matplotlib.image as mpimg\n",
    "import matplotlib.pyplot as plt \n",
    "import cv2\n",
    "import os\n",
    "import math\n",
    "from moviepy.editor import VideoFileClip\n",
    "from IPython.display import HTML\n",
    "from IPython.display import display\n",
    "from AdvancedLaneFinding import *"
   ]
  },
  {
   "cell_type": "code",
   "execution_count": 2,
   "metadata": {},
   "outputs": [],
   "source": [
    "IMAGE_SIZE=(720, 1280)\n",
    "CHESSBOARD_IMAGE_DIR = \"camera_cal\"\n",
    "TEST_IMAGE_DIR = \"test_images\"\n",
    "INPUT_VIDEO_DIR= \"input_videos\"\n",
    "OUTPUT_IMAGE_DIR = \"output_images\"\n",
    "OUTPUT_VIDEO_DIR = \"output_videos\"\n",
    "ABSOLUTE_SOBEL_X = (7, 20, 100)\n",
    "ABSOLUTE_SOBEL_Y = (7, 20, 100)\n",
    "MAGNITUDE_SOBEL = (3, 30, 100)\n",
    "DIRECTION_SOBEL = (31, 0.5, 1.0)\n",
    "S_CHANNEL_THRESHOLD = (170, 255)\n",
    "WARP_SRC = np.float32([(532, 496),\n",
    "                       (756, 496),\n",
    "                       (288, 664),\n",
    "                       (1016, 664)])\n",
    "WARP_DST = np.float32([(WARP_SRC[2][0], WARP_SRC[2][1] - 200),\n",
    "                       (WARP_SRC[3][0], WARP_SRC[3][1] - 200),\n",
    "                       (WARP_SRC[2][0], WARP_SRC[2][1]),\n",
    "                       (WARP_SRC[3][0], WARP_SRC[3][1])])\n",
    "SLIDING_WINDOW_PARAMS = (9, 100, 50)\n",
    "METERS_PER_PIXEL_Y = 30 / 720\n",
    "METERS_PER_PIXEL_X = 3.7 / 700\n",
    "MAX_RECENT_XFITTED = 10\n",
    "LANE_DETECTION_FAILURE_COUNT_BEFORE_SLIDING_WINDOW=20\n",
    "REGION_OF_INTEREST_VERTS = np.array([[\n",
    "            (0, IMAGE_SIZE[0]),\n",
    "            (IMAGE_SIZE[1] / 2, IMAGE_SIZE[0] / 2 + 45),\n",
    "            (IMAGE_SIZE[1] / 2, IMAGE_SIZE[0] / 2 + 45),\n",
    "            (IMAGE_SIZE[1],     IMAGE_SIZE[0])\n",
    "        ]], dtype = np.int32)"
   ]
  },
  {
   "cell_type": "code",
   "execution_count": 3,
   "metadata": {
    "scrolled": true
   },
   "outputs": [],
   "source": [
    "# initialize class instance containing advanced lane line detection methods\n",
    "LaneFinder = AdvancedLaneFinder(\n",
    "    image_size=IMAGE_SIZE,\n",
    "    chessboard_image_dir=CHESSBOARD_IMAGE_DIR,\n",
    "    absolute_sobel_x=ABSOLUTE_SOBEL_X,\n",
    "    absolute_sobel_y=ABSOLUTE_SOBEL_Y,\n",
    "    magnitude_sobel=MAGNITUDE_SOBEL,\n",
    "    direction_sobel=DIRECTION_SOBEL,\n",
    "    s_channel_thresh=S_CHANNEL_THRESHOLD,\n",
    "    warp_perspective=(WARP_SRC, WARP_DST),\n",
    "    sliding_window_params=SLIDING_WINDOW_PARAMS,\n",
    "    meters_per_pixel=(METERS_PER_PIXEL_Y, METERS_PER_PIXEL_X),\n",
    "    max_recent_xfitted=MAX_RECENT_XFITTED,\n",
    "    lane_detection_failure_count_before_sliding_window=LANE_DETECTION_FAILURE_COUNT_BEFORE_SLIDING_WINDOW,\n",
    "    region_of_interest_verts=REGION_OF_INTEREST_VERTS,\n",
    ")"
   ]
  },
  {
   "cell_type": "code",
   "execution_count": 4,
   "metadata": {},
   "outputs": [],
   "source": [
    "def __main__():\n",
    "    print(\"Starting the Pipeline for the Advanced Lane Finding...\")\n",
    "    print(\"First, test the pipeline for the images...\")\n",
    "    images()\n",
    "    print(\"Done with The Images...\")\n",
    "    print(\"Starting the Pipeline for the Videos...\")\n",
    "    Videos()\n",
    "    print(\"Done with Videos...\")\n",
    "    \n",
    "def images():\n",
    "    test_img_paths = os.listdir(TEST_IMAGE_DIR)\n",
    "    for fname in test_img_paths:\n",
    "        # the following hack needed to start sliding window search for each new image\n",
    "        LaneFinder._left_line.detected = False\n",
    "        LaneFinder._right_line.detected = False\n",
    "\n",
    "        img = cv2.imread(os.path.join(TEST_IMAGE_DIR, fname))\n",
    "        img_text = LaneFinder.pipeline(image=img, stop_on_step='add_text')\n",
    "\n",
    "        # create output directory for images, if does not exist\n",
    "        if not os.path.isdir(OUTPUT_IMAGE_DIR):\n",
    "            os.mkdir(OUTPUT_IMAGE_DIR)\n",
    "\n",
    "        # save undistorted image\n",
    "        cv2.imwrite(os.path.join(OUTPUT_IMAGE_DIR, fname[0:-4] + \"_text.jpg\"), img_text)\n",
    "\n",
    "def Videos():\n",
    "    test_video_paths = os.listdir(INPUT_VIDEO_DIR)\n",
    "    \n",
    "    # create output directory for vidoes, if does not exist\n",
    "    if not os.path.isdir(OUTPUT_VIDEO_DIR):\n",
    "            os.mkdir(OUTPUT_VIDEO_DIR)\n",
    "            \n",
    "    for fname in test_video_paths:\n",
    "        # define paths to source and destination videos\n",
    "        vid_src = os.path.join(INPUT_VIDEO_DIR, fname)\n",
    "        vid_dst = os.path.join(OUTPUT_VIDEO_DIR, fname)\n",
    "        print(\"Starting the \"+ fname +\" Video...\")\n",
    "\n",
    "        video = VideoFileClip(vid_src)\n",
    "        video_clip = video.fl_image(LaneFinder.pipeline)\n",
    "        %time video_clip.write_videofile(vid_dst, audio = False)\n",
    "        display(HTML(\n",
    "                \"\"\"\n",
    "                    <video width=\"960\" height=\"540\" controls>\n",
    "                       <source src=\"{0}\">\n",
    "                    </video>\n",
    "                \"\"\".format(vid_dst)))"
   ]
  },
  {
   "cell_type": "code",
   "execution_count": null,
   "metadata": {},
   "outputs": [
    {
     "name": "stdout",
     "output_type": "stream",
     "text": [
      "Starting the Pipeline for the Advanced Lane Finding...\n",
      "First, test the pipeline for the images...\n",
      "Done with The Images...\n",
      "Starting the Pipeline for the Videos...\n",
      "Starting the challenge_video.mp4 Video...\n",
      "Moviepy - Building video output_videos\\challenge_video.mp4.\n",
      "Moviepy - Writing video output_videos\\challenge_video.mp4\n",
      "\n"
     ]
    },
    {
     "name": "stderr",
     "output_type": "stream",
     "text": [
      "t: 100%|███████████████████████████████████████████████████████████████████| 485/485 [04:53<00:00,  1.85it/s, now=None]WARNING:py.warnings:C:\\Users\\haddy.haggan\\AppData\\Local\\Continuum\\anaconda3\\lib\\site-packages\\moviepy\\video\\io\\ffmpeg_reader.py:130: UserWarning: Warning: in file input_videos\\challenge_video.mp4, 2764800 bytes wanted but 0 bytes read,at frame 484/485, at time 16.15/16.15 sec. Using the last valid frame instead.\n",
      "  UserWarning)\n",
      "\n",
      "                                                                                                                       \r"
     ]
    },
    {
     "name": "stdout",
     "output_type": "stream",
     "text": [
      "Moviepy - Done !\n",
      "Moviepy - video ready output_videos\\challenge_video.mp4\n",
      "Wall time: 4min 55s\n"
     ]
    },
    {
     "data": {
      "text/html": [
       "\n",
       "                    <video width=\"960\" height=\"540\" controls>\n",
       "                       <source src=\"output_videos\\challenge_video.mp4\">\n",
       "                    </video>\n",
       "                "
      ],
      "text/plain": [
       "<IPython.core.display.HTML object>"
      ]
     },
     "metadata": {},
     "output_type": "display_data"
    },
    {
     "name": "stdout",
     "output_type": "stream",
     "text": [
      "Starting the harder_challenge_video.mp4 Video...\n",
      "Moviepy - Building video output_videos\\harder_challenge_video.mp4.\n",
      "Moviepy - Writing video output_videos\\harder_challenge_video.mp4\n",
      "\n"
     ]
    },
    {
     "name": "stderr",
     "output_type": "stream",
     "text": [
      "t:  26%|█████████████████▏                                                | 312/1199 [03:27<08:15,  1.79it/s, now=None]"
     ]
    }
   ],
   "source": [
    "__main__()"
   ]
  },
  {
   "cell_type": "raw",
   "metadata": {},
   "source": []
  }
 ],
 "metadata": {
  "kernelspec": {
   "display_name": "Python 3",
   "language": "python",
   "name": "python3"
  },
  "language_info": {
   "codemirror_mode": {
    "name": "ipython",
    "version": 3
   },
   "file_extension": ".py",
   "mimetype": "text/x-python",
   "name": "python",
   "nbconvert_exporter": "python",
   "pygments_lexer": "ipython3",
   "version": "3.6.8"
  }
 },
 "nbformat": 4,
 "nbformat_minor": 2
}
